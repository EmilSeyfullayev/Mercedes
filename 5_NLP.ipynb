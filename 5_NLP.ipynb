{
  "nbformat": 4,
  "nbformat_minor": 0,
  "metadata": {
    "colab": {
      "name": "5_NLP.ipynb",
      "provenance": [],
      "mount_file_id": "1YdCa3NFRnRedroOg85Ixa-CM_GMqaIQp",
      "authorship_tag": "ABX9TyM1iO6TMLrbkD0cvpiFGdZC",
      "include_colab_link": true
    },
    "kernelspec": {
      "name": "python3",
      "display_name": "Python 3"
    }
  },
  "cells": [
    {
      "cell_type": "markdown",
      "metadata": {
        "id": "view-in-github",
        "colab_type": "text"
      },
      "source": [
        "<a href=\"https://colab.research.google.com/github/EmilSeyfullayev/Mercedes/blob/main/5_NLP.ipynb\" target=\"_parent\"><img src=\"https://colab.research.google.com/assets/colab-badge.svg\" alt=\"Open In Colab\"/></a>"
      ]
    },
    {
      "cell_type": "code",
      "metadata": {
        "id": "fZplaKy8pYgB"
      },
      "source": [
        "# from google.colab import auth\n",
        "# auth.authenticate_user()"
      ],
      "execution_count": null,
      "outputs": []
    },
    {
      "cell_type": "code",
      "metadata": {
        "colab": {
          "base_uri": "https://localhost:8080/"
        },
        "id": "3um0Q6QlphO_",
        "outputId": "065aca6f-6693-4723-f73b-8a41d97424b1"
      },
      "source": [
        "# !cat adc.json"
      ],
      "execution_count": null,
      "outputs": [
        {
          "output_type": "stream",
          "text": [
            "{\n",
            "  \"client_id\": \"32555940559.apps.googleusercontent.com\",\n",
            "  \"client_secret\": \"ZmssLNjJy2998hD4CTg2ejr2\",\n",
            "  \"refresh_token\": \"1//04J5MjxR0gOA8CgYIARAAGAQSNwF-L9Ir_GKvv9SaXL58BsCsAj3NO-4uTGdDc9QIuE8I0eZNv5eJKg7k7d5f600sgwJv-sToG18\",\n",
            "  \"revoke_uri\": \"https://accounts.google.com/o/oauth2/revoke\",\n",
            "  \"scopes\": [\n",
            "    \"openid\",\n",
            "    \"https://www.googleapis.com/auth/userinfo.email\",\n",
            "    \"https://www.googleapis.com/auth/cloud-platform\",\n",
            "    \"https://www.googleapis.com/auth/appengine.admin\",\n",
            "    \"https://www.googleapis.com/auth/compute\",\n",
            "    \"https://www.googleapis.com/auth/accounts.reauth\",\n",
            "    \"https://www.googleapis.com/auth/drive\"\n",
            "  ],\n",
            "  \"token_uri\": \"https://oauth2.googleapis.com/token\",\n",
            "  \"type\": \"authorized_user\"\n",
            "}"
          ],
          "name": "stdout"
        }
      ]
    },
    {
      "cell_type": "code",
      "metadata": {
        "id": "RkaIQ18QphZK"
      },
      "source": [
        "!pip install -U -q PyDrive\n",
        "\n",
        "import httplib2\n",
        "import json\n",
        "\n",
        "from google.colab import auth\n",
        "from oauth2client import GOOGLE_REVOKE_URI, GOOGLE_TOKEN_URI, client\n",
        "from oauth2client.client import GoogleCredentials\n",
        "from pydrive.auth import GoogleAuth\n",
        "from pydrive.drive import GoogleDrive\n",
        "\n",
        "auth_key = {\n",
        "  \"client_id\": \"32555940559.apps.googleusercontent.com\",\n",
        "  \"client_secret\": \"ZmssLNjJy2998hD4CTg2ejr2\",\n",
        "  \"refresh_token\": \"1//04J5MjxR0gOA8CgYIARAAGAQSNwF-L9Ir_GKvv9SaXL58BsCsAj3NO-4uTGdDc9QIuE8I0eZNv5eJKg7k7d5f600sgwJv-sToG18\"\n",
        "}\n",
        "\n",
        "credentials = client.OAuth2Credentials(\n",
        "    access_token=None,\n",
        "    client_id=auth_key['client_id'],\n",
        "    client_secret=auth_key['client_secret'],\n",
        "    refresh_token=auth_key['refresh_token'],\n",
        "    token_expiry=None,\n",
        "    token_uri=GOOGLE_TOKEN_URI,\n",
        "    user_agent=None,\n",
        "    revoke_uri=GOOGLE_REVOKE_URI)\n",
        "\n",
        "credentials.refresh(httplib2.Http())\n",
        "credentials.authorize(httplib2.Http())\n",
        "cred = json.loads(credentials.to_json())\n",
        "cred['type'] = 'authorized_user'\n",
        "\n",
        "with open('adc.json', 'w') as outfile:\n",
        "  json.dump(cred, outfile)\n",
        "\n",
        "auth.authenticate_user()"
      ],
      "execution_count": null,
      "outputs": []
    },
    {
      "cell_type": "code",
      "metadata": {
        "id": "qqTwI82tphh7"
      },
      "source": [
        "#Importing libraries\n",
        "\n",
        "import pandas as pd\n",
        "import numpy as np\n",
        "import matplotlib.pyplot as plt\n",
        "import seaborn as sns\n",
        "sns.set()\n",
        "sns.set_style(\"whitegrid\")\n",
        "\n",
        "import gspread_dataframe as gd\n",
        "import gspread as gs\n",
        "gc = gs.authorize(GoogleCredentials.get_application_default())\n",
        "\n",
        "ws = gc.open(\"MercedesDataBase\").worksheet(\"sheet_1\")\n",
        "db_data = gd.get_as_dataframe(ws)\n",
        "\n",
        "\n",
        "data = db_data\n",
        "\n",
        "##Preprocessing\n",
        "df = pd.DataFrame()\n",
        "\n",
        "#1 #2\n",
        "df['city'] = data['Şəhər']\n",
        "df['car_name'] = data['Marka']\n",
        "\n",
        "#3\n",
        "model_1 = []\n",
        "model_2 = []\n",
        "model_3 = []\n",
        "\n",
        "for i in data['Model']:\n",
        "  model_1.append(str(i).split(\" \")[0])\n",
        "\n",
        "  try:\n",
        "    model_2.append(str(i).split(\" \")[1])\n",
        "  except IndexError:\n",
        "    model_2.append(0)\n",
        "\n",
        "  try:\n",
        "    model_3.append(str(i).split(\" \")[2])\n",
        "  except IndexError:\n",
        "    model_3.append(0)\n",
        "\n",
        "df['model_1'] = model_1\n",
        "df['model_2'] = model_2\n",
        "df['model_3'] = model_3\n",
        "\n",
        "\n",
        "#4, 5, 6\n",
        "df['year'] = pd.to_numeric(data['Buraxılış ili'])\n",
        "df['car_type'] = data['Ban növü']\n",
        "df['color'] = data['Rəng']\n",
        "\n",
        "\n",
        "#7\n",
        "engine_volume = []\n",
        "\n",
        "for i in data['Mühərrik']:\n",
        "  engine_volume.append(str(i).split(\" L\")[0])\n",
        "\n",
        "df['engine_volume'] = pd.to_numeric(engine_volume)\n",
        "\n",
        "#8\n",
        "horse_power = []\n",
        "\n",
        "for i in data['Mühərrikin gücü']:\n",
        "  horse_power.append(str(i).split(\" a.g.\")[0])\n",
        "\n",
        "df['horse_power'] = pd.to_numeric(horse_power)\n",
        "\n",
        "#9\n",
        "df['fuel_type'] = data['Yanacaq növü']\n",
        "\n",
        "#10\n",
        "went = []\n",
        "\n",
        "for i in data['Yürüş']:\n",
        "  went.append(str(i).split(\" km\")[0].replace(\" \", \"\"))\n",
        "\n",
        "df['went'] = pd.to_numeric(went)\n",
        "\n",
        "#11 #12 #13\n",
        "df['gearbox'] = data['Sürətlər qutusu']\n",
        "df['transmission'] = data['Ötürücü']\n",
        "df['new'] = data['Yeni']\n",
        "\n",
        "#14 #15\n",
        "currency = []\n",
        "price = []\n",
        "\n",
        "for i in data['Qiymət']:\n",
        "  if str(i).split(\" \")[-1] in [\"AZN\", \"$\"]:\n",
        "    currency.append(str(i).split(\" \")[-1])\n",
        "  elif str(i).split(\" \")[-1] not in [\"AZN\", \"$\"]:\n",
        "    currency.append(\"€\")\n",
        "\n",
        "for i in data['Qiymət']:\n",
        "  if str(i).split(\" \")[-1] in [\"AZN\", \"$\"]:\n",
        "    price.append(\"\".join(str(i).split(\" \")[0:-1]))\n",
        "  elif str(i).split(\" \")[-1] not in [\"AZN\", \"$\"]:\n",
        "    price.append(i)\n",
        "\n",
        "df['currency'] = currency\n",
        "df['price'] = pd.to_numeric(price)\n",
        "\n",
        "#16\n",
        "\n",
        "date = []\n",
        "time_hour = []\n",
        "time_minute = []\n",
        "\n",
        "for i in data['Tarix_Saat']:\n",
        "  date.append(i.split(\" \")[0])\n",
        "  time_hour.append(str(i).split(\" \")[1].split(\":\")[0])\n",
        "  time_minute.append(str(i).split(\" \")[1].split(\":\")[1])\n",
        "\n",
        "df['date'] = pd.to_datetime(date, format=\"%d.%m.%Y\" )\n",
        "df['time_hour'] = pd.to_numeric(time_hour)\n",
        "df['time_minute'] = pd.to_numeric(time_minute)\n",
        "\n",
        "#17\n",
        "\n",
        "values = ['products-i', 'vipped', 'featured', 'salon']\n",
        "\n",
        "vip = []\n",
        "featured = []\n",
        "salon = []\n",
        "\n",
        "for value in data['Kateqoriya']:\n",
        "#########################################\n",
        "  if values[1] in value:\n",
        "    vip.append(1)\n",
        "  elif values[1] not in value:\n",
        "    vip.append(0)\n",
        "########################################\n",
        "for value in data['Kateqoriya']:\n",
        "  if values[2] in value:\n",
        "    featured.append(1)\n",
        "  elif values[2] not in value:\n",
        "    featured.append(0)\n",
        "########################################\n",
        "for value in data['Kateqoriya']:\n",
        "  if values[3] in value:\n",
        "    salon.append(1)\n",
        "  elif values[3] not in value:\n",
        "    salon.append(0)\n",
        "\n",
        "df['vip'] = vip\n",
        "df['featured'] = featured\n",
        "df['salon'] = salon\n",
        "\n",
        "#18 #19 #20 #21 #22\n",
        "df['number_of-looks'] = pd.to_numeric(data['Baxışların sayı'])\n",
        "df['id'] = pd.to_numeric(data['Məhsulun id-si'])\n",
        "df['link'] = data['Link']\n",
        "df['loan'] = data['Kredit mümkündür']\n",
        "df['barter'] = data['Barter mümkündür']\n",
        "\n",
        "#23 #24\n",
        "# this one is tricky\n",
        "#length of one string element (1 number is 15)\n",
        "#lrngth of others (2 and more number counts) is roughly equals or less than 4 (4 numbers)\n",
        "\n",
        "cell_phone_number = []\n",
        "\n",
        "for i in data['Əlaqə nömrəsi']:\n",
        "  if len(str(i)) > 14:\n",
        "    cell_phone_number.append(i)\n",
        "  else:\n",
        "    cell_phone_number.append(\", \".join(str(i)))\n",
        "\n",
        "df['cell_phone_number'] = cell_phone_number\n",
        "df['name_of_auto_salon'] = data['Avtosalon adı']\n",
        "\n",
        "#25\n",
        "extra_values = ['Yüngül lehimli disklər',\n",
        " 'ABS', 'Lyuk', 'Yağış sensoru', 'Mərkəzi qapanma',\n",
        " 'Park radarı', 'Kondisioner', 'Oturacaqların isidilməsi',\n",
        " 'Dəri salon', 'Ksenon lampalar', 'Arxa görüntü kamerası',\n",
        " 'Yan pərdələr', 'Oturacaqların ventilyasiyası']\n",
        "\n",
        "alloy_wheels = [];    abs_auto_block = [];        luke = []\n",
        "rain_sensors = [];    central_door_blocking = []; parking_radars = []\n",
        "air_conditioner = []; seat_heating = [];          leather_interior = []\n",
        "xenon_lights = [];    back_side_camera = [];      side_curtains = []\n",
        "seat_ventilation = []\n",
        "\n",
        "for i in data['Ekstra parametrlər']:\n",
        "####disks\n",
        "  if extra_values[0] in str(i):\n",
        "    alloy_wheels.append(1)\n",
        "  elif extra_values[0] not in str(i):\n",
        "    alloy_wheels.append(0)\n",
        "\n",
        "####abs\n",
        "  if extra_values[1] in str(i):\n",
        "    abs_auto_block.append(1)\n",
        "  elif extra_values[1] not in str(i):\n",
        "    abs_auto_block.append(0)\n",
        "\n",
        "\n",
        "####luke\n",
        "  if extra_values[2] in str(i):\n",
        "    luke.append(1)\n",
        "  elif extra_values[2] not in str(i):\n",
        "    luke.append(0)\n",
        "\n",
        "#rain_sensors\n",
        "  if extra_values[3] in str(i):\n",
        "    rain_sensors.append(1)\n",
        "  elif extra_values[3] not in str(i):\n",
        "    rain_sensors.append(0)\n",
        "\n",
        "#central_door_blocking\n",
        "  if extra_values[4] in str(i):\n",
        "    central_door_blocking.append(1)\n",
        "  elif extra_values[4] not in str(i):\n",
        "    central_door_blocking.append(0)\n",
        "\n",
        "#parking_radars\n",
        "  if extra_values[5] in str(i):\n",
        "    parking_radars.append(1)\n",
        "  elif extra_values[5] not in str(i):\n",
        "    parking_radars.append(0)\n",
        "\n",
        "#air_conditioner\n",
        "  if extra_values[6] in str(i):\n",
        "    air_conditioner.append(1)\n",
        "  elif extra_values[6] not in str(i):\n",
        "    air_conditioner.append(0)\n",
        "\n",
        "#seat_heating\n",
        "  if extra_values[7] in str(i):\n",
        "    seat_heating.append(1)\n",
        "  elif extra_values[7] not in str(i):\n",
        "    seat_heating.append(0)\n",
        "\n",
        "#leather_interior\n",
        "  if extra_values[8] in str(i):\n",
        "    leather_interior.append(1)\n",
        "  elif extra_values[8] not in str(i):\n",
        "    leather_interior.append(0)\n",
        "\n",
        "#xenon_lights\n",
        "  if extra_values[9] in str(i):\n",
        "    xenon_lights.append(1)\n",
        "  elif extra_values[9] not in str(i):\n",
        "    xenon_lights.append(0)\n",
        "\n",
        "#back_side_camera\n",
        "  if extra_values[10] in str(i):\n",
        "    back_side_camera.append(1)\n",
        "  elif extra_values[10] not in str(i):\n",
        "    back_side_camera.append(0)\n",
        "\n",
        "#side_curtains\n",
        "  if extra_values[11] in str(i):\n",
        "    side_curtains.append(1)\n",
        "  elif extra_values[11] not in str(i):\n",
        "    side_curtains.append(0)\n",
        "\n",
        "#seat_ventilation\n",
        "  if extra_values[12] in str(i):\n",
        "    seat_ventilation.append(1)\n",
        "  elif extra_values[12] not in str(i):\n",
        "    seat_ventilation.append(0)\n",
        "\n",
        "\n",
        "df['alloy_wheels'] = alloy_wheels;                        df['abs_auto_block'] = abs_auto_block\n",
        "df['luke'] = luke;                                        df['rain_sensors'] = rain_sensors\n",
        "df['central_door_blocking'] = central_door_blocking;      df['parking_radars'] = parking_radars\n",
        "df['air_conditioner'] = air_conditioner;                  df['seat_heating'] = seat_heating\n",
        "df['leather_interior'] = leather_interior;                df['xenon_lights'] = xenon_lights\n",
        "df['back_side_camera'] = back_side_camera;                df['side_curtains'] = side_curtains\n",
        "df['seat_ventilation'] = seat_ventilation\n",
        "\n",
        "#26\n",
        "df['product_text'] = data['Məhsulun mətni']\n",
        "\n",
        "# if any(s in line for s in ('string1', 'string2', ...)): # this is to check words in text by keywords\n",
        "\n",
        "#27\n",
        "geolocation_horizontal = []\n",
        "geolocation_vertical = []\n",
        "\n",
        "for i in data['Yerləşmə məkanı']:\n",
        "  try:\n",
        "    geolocation_horizontal.append(float(i.split(\"%2C\")[0]))\n",
        "    geolocation_vertical.append(float(i.split(\"%2C\")[1]))\n",
        "  except AttributeError:\n",
        "    geolocation_horizontal.append(i)\n",
        "    geolocation_vertical.append(i)   \n",
        "\n",
        "df['geolocation_horizontal'] = geolocation_horizontal\n",
        "df['geolocation_vertical'] = geolocation_vertical\n",
        "\n",
        "#28 #29\n",
        "df['parsing_date'] = data['Parsinq olunan tarix']\n",
        "df['parsing_exact_time'] = data['Parsinq olunan zaman']\n",
        "\n",
        "price_manat_2021 = []\n",
        "\n",
        "for i in range(len(df)):\n",
        "  if df['currency'][i] == 'AZN':\n",
        "    price_manat_2021.append(df['price'][i])\n",
        "  elif df['currency'][i] == '$':\n",
        "    price_manat_2021.append(df['price'][i]*1.7)\n",
        "  elif df['currency'][i] == '€':\n",
        "    price_manat_2021.append(df['price'][i]*2)\n",
        "  else:\n",
        "    price_manat_2021.append(0)\n",
        "\n",
        "df['price_manat_2021'] = price_manat_2021"
      ],
      "execution_count": null,
      "outputs": []
    },
    {
      "cell_type": "code",
      "metadata": {
        "id": "K_einrAvsNXK"
      },
      "source": [
        "from tensorflow.keras.preprocessing.text import Tokenizer\n",
        "from tensorflow.keras.preprocessing.sequence import pad_sequences\n",
        "tokenizer = Tokenizer(oov_token=\"<OOV>\")"
      ],
      "execution_count": null,
      "outputs": []
    },
    {
      "cell_type": "code",
      "metadata": {
        "id": "yFZLBWZPph5N"
      },
      "source": [
        "sentences = []\n",
        "\n",
        "for i in df['product_text']:\n",
        "  sentences.append(i)"
      ],
      "execution_count": null,
      "outputs": []
    },
    {
      "cell_type": "code",
      "metadata": {
        "id": "X_4cKdnjvO5F"
      },
      "source": [
        "#This is done make numerics as strings\n",
        "sentences = [str (item) for item in sentences]"
      ],
      "execution_count": null,
      "outputs": []
    },
    {
      "cell_type": "code",
      "metadata": {
        "id": "-kxVrVZ6sSfx"
      },
      "source": [
        "tokenizer.fit_on_texts(sentences)"
      ],
      "execution_count": null,
      "outputs": []
    },
    {
      "cell_type": "code",
      "metadata": {
        "colab": {
          "base_uri": "https://localhost:8080/"
        },
        "id": "wOCOfaa7tcpH",
        "outputId": "16ba2593-e32a-4178-ab37-99954d1f6eb9"
      },
      "source": [
        "word_index = tokenizer.word_index\n",
        "print(len(word_index))"
      ],
      "execution_count": null,
      "outputs": [
        {
          "output_type": "stream",
          "text": [
            "48266\n"
          ],
          "name": "stdout"
        }
      ]
    },
    {
      "cell_type": "code",
      "metadata": {
        "id": "jix21RoCtccQ"
      },
      "source": [
        "sequences = tokenizer.texts_to_sequences(sentences)"
      ],
      "execution_count": null,
      "outputs": []
    },
    {
      "cell_type": "code",
      "metadata": {
        "id": "SrEFPoU_s9bY"
      },
      "source": [
        "padded = pad_sequences(sequences, padding='post')"
      ],
      "execution_count": null,
      "outputs": []
    },
    {
      "cell_type": "code",
      "metadata": {
        "colab": {
          "base_uri": "https://localhost:8080/",
          "height": 103
        },
        "id": "6NiLsltjxh4x",
        "outputId": "3f6efeec-4b8e-4c89-c280-7c21960f414a"
      },
      "source": [
        "sentences[5]"
      ],
      "execution_count": null,
      "outputs": [
        {
          "output_type": "execute_result",
          "data": {
            "application/vnd.google.colaboratory.intrinsic+json": {
              "type": "string"
            },
            "text/plain": [
              "'Masin ela veziyyetdedi.her seyi islek veziyyetdedir.problemi demek olarki yoxdu.rengi qara 040 temiz qaradi zersiz.bir dest de qara orginal disk tekerde verecem teze kimi.iki dest ayaqalti hem rezin hem de ozunun orginal kovriki.kalonkalari da deyisilib teze qoyulub.qeza nisani domkrat ve zapas tekeri de ustundedi.xadavoyunda her sey deyisilib orginal qoyulub kitay yox hamisi alman zapcasti ile deyisilib.akumlatoru da almaniyanindi,benzin nasosu da bocsh firmasi 220 manata aldim hemcinin akumulatoru 240 manata almisam.udari yoxdu.ustundeki nomre satilmir.masin oz adimdadi.benzin de az isledir maksimum yayda seher ici 11 amma trasda 7 lt.amerikanka plonkalar ve perdesi de var her seyin ustunde verirem.'"
            ]
          },
          "metadata": {
            "tags": []
          },
          "execution_count": 10
        }
      ]
    },
    {
      "cell_type": "code",
      "metadata": {
        "colab": {
          "base_uri": "https://localhost:8080/"
        },
        "id": "D7o1rK5lxc4C",
        "outputId": "495840a8-b29e-4881-8490-63ac8d09167e"
      },
      "source": [
        "word_index['veziyyetdedi']"
      ],
      "execution_count": null,
      "outputs": [
        {
          "output_type": "execute_result",
          "data": {
            "text/plain": [
              "74"
            ]
          },
          "metadata": {
            "tags": []
          },
          "execution_count": 11
        }
      ]
    },
    {
      "cell_type": "code",
      "metadata": {
        "colab": {
          "base_uri": "https://localhost:8080/"
        },
        "id": "DmGBbbpdx_rm",
        "outputId": "81e4a12c-c5a3-462b-c895-3a1f931ae576"
      },
      "source": [
        "word_index['her']"
      ],
      "execution_count": null,
      "outputs": [
        {
          "output_type": "execute_result",
          "data": {
            "text/plain": [
              "63"
            ]
          },
          "metadata": {
            "tags": []
          },
          "execution_count": 12
        }
      ]
    },
    {
      "cell_type": "code",
      "metadata": {
        "colab": {
          "base_uri": "https://localhost:8080/"
        },
        "id": "5sBsIaaKvh0q",
        "outputId": "bcb3a931-f5a5-4f15-8c4d-a09f176376ab"
      },
      "source": [
        "padded[5]"
      ],
      "execution_count": null,
      "outputs": [
        {
          "output_type": "execute_result",
          "data": {
            "text/plain": [
              "array([    5,    23,    74,    63,   637,   422,    18,    11,   634,\n",
              "         669,     6,   431,   351,  2576,   125,  7258, 20726,     2,\n",
              "        9219,   289,   351,   171,   349,  6062,  1119,    31,    43,\n",
              "         290,  9219,  5258,   890,  6063,   890,   289,  7259,   171,\n",
              "       20727,  9220,   169,   317,    31,   105,  5259, 20728, 20729,\n",
              "          15,  3237,  1201,   289,  2414,   954,    63,   891,   317,\n",
              "         171,   105,  8103,   492,   530,   569, 20730,    72,   317,\n",
              "       11059,   169, 20731,   218,  1658,   169, 14050,  4208,  1160,\n",
              "        1266,  8104,  5605, 20732,  1822,  1266,  1248,    56,     6,\n",
              "        4961,   493,  1679,     5,    62,  1304,   218,   289,   205,\n",
              "        1702,  1097,  3555,   837,   697,   675,   825,   438,   109,\n",
              "        1249,  1431, 20733,    15,  6619,   289,     9,    63, 14051,\n",
              "         539,  2028,     0,     0,     0,     0,     0,     0,     0,\n",
              "           0,     0,     0,     0,     0,     0,     0,     0,     0,\n",
              "           0,     0,     0,     0,     0,     0,     0,     0,     0,\n",
              "           0,     0,     0,     0,     0,     0,     0,     0,     0,\n",
              "           0,     0,     0,     0,     0,     0,     0,     0,     0,\n",
              "           0,     0,     0,     0,     0,     0,     0,     0,     0,\n",
              "           0,     0,     0,     0,     0,     0,     0,     0,     0,\n",
              "           0,     0,     0,     0,     0,     0,     0,     0,     0,\n",
              "           0,     0,     0,     0,     0,     0,     0,     0,     0,\n",
              "           0,     0,     0,     0,     0,     0,     0,     0,     0,\n",
              "           0,     0,     0,     0,     0,     0,     0,     0,     0,\n",
              "           0,     0,     0,     0,     0,     0,     0,     0,     0,\n",
              "           0,     0,     0,     0,     0,     0,     0,     0,     0,\n",
              "           0,     0,     0,     0,     0,     0,     0,     0,     0,\n",
              "           0,     0,     0,     0,     0,     0,     0,     0,     0,\n",
              "           0,     0,     0,     0,     0,     0,     0,     0,     0,\n",
              "           0,     0,     0,     0,     0,     0,     0,     0,     0,\n",
              "           0,     0,     0,     0,     0,     0,     0,     0,     0,\n",
              "           0,     0,     0,     0,     0,     0,     0,     0,     0,\n",
              "           0,     0,     0,     0,     0,     0,     0,     0,     0,\n",
              "           0,     0,     0,     0,     0,     0,     0,     0,     0,\n",
              "           0,     0,     0,     0,     0,     0,     0,     0,     0,\n",
              "           0,     0,     0,     0,     0,     0,     0,     0,     0,\n",
              "           0,     0,     0,     0,     0,     0,     0,     0,     0,\n",
              "           0,     0,     0,     0,     0,     0,     0,     0,     0,\n",
              "           0,     0,     0,     0,     0,     0,     0,     0,     0,\n",
              "           0,     0,     0,     0,     0,     0,     0,     0,     0,\n",
              "           0,     0,     0,     0,     0,     0,     0,     0,     0,\n",
              "           0,     0,     0,     0,     0,     0,     0,     0,     0,\n",
              "           0,     0,     0,     0,     0,     0,     0,     0,     0,\n",
              "           0,     0,     0,     0,     0,     0,     0,     0,     0,\n",
              "           0,     0,     0,     0,     0,     0,     0,     0,     0,\n",
              "           0,     0,     0,     0,     0,     0,     0,     0,     0,\n",
              "           0,     0,     0,     0,     0,     0,     0,     0,     0,\n",
              "           0,     0,     0,     0,     0,     0,     0,     0,     0,\n",
              "           0,     0,     0,     0,     0,     0,     0,     0,     0,\n",
              "           0,     0,     0,     0,     0,     0,     0,     0,     0,\n",
              "           0,     0,     0,     0,     0,     0,     0,     0,     0,\n",
              "           0,     0,     0,     0,     0,     0,     0,     0,     0,\n",
              "           0,     0,     0,     0,     0,     0,     0,     0,     0,\n",
              "           0,     0,     0,     0,     0,     0,     0,     0,     0,\n",
              "           0,     0,     0,     0,     0,     0,     0,     0,     0,\n",
              "           0,     0,     0,     0,     0,     0,     0,     0,     0,\n",
              "           0,     0,     0,     0,     0,     0,     0,     0,     0,\n",
              "           0,     0,     0,     0,     0,     0,     0,     0,     0,\n",
              "           0,     0,     0,     0,     0,     0,     0,     0,     0,\n",
              "           0,     0,     0,     0,     0,     0,     0,     0,     0,\n",
              "           0,     0,     0,     0,     0,     0,     0,     0,     0,\n",
              "           0,     0,     0,     0,     0,     0,     0,     0,     0,\n",
              "           0,     0,     0,     0,     0,     0,     0,     0,     0,\n",
              "           0,     0,     0,     0,     0,     0,     0,     0,     0,\n",
              "           0,     0,     0,     0,     0,     0,     0,     0,     0,\n",
              "           0,     0,     0,     0,     0,     0,     0,     0,     0,\n",
              "           0,     0,     0,     0,     0,     0,     0,     0,     0,\n",
              "           0,     0,     0,     0,     0,     0,     0,     0,     0,\n",
              "           0,     0,     0,     0,     0,     0,     0,     0,     0,\n",
              "           0,     0,     0,     0,     0,     0,     0,     0,     0,\n",
              "           0,     0,     0,     0,     0,     0,     0,     0,     0,\n",
              "           0,     0,     0,     0,     0,     0,     0,     0,     0,\n",
              "           0,     0,     0,     0,     0,     0,     0,     0,     0,\n",
              "           0,     0,     0,     0,     0,     0,     0,     0,     0,\n",
              "           0,     0,     0,     0,     0,     0,     0,     0,     0,\n",
              "           0,     0,     0,     0,     0,     0,     0,     0,     0,\n",
              "           0,     0,     0,     0,     0,     0,     0,     0,     0,\n",
              "           0,     0,     0,     0,     0,     0,     0,     0,     0,\n",
              "           0,     0,     0,     0,     0,     0,     0,     0,     0,\n",
              "           0,     0,     0,     0,     0,     0,     0,     0,     0,\n",
              "           0,     0,     0,     0,     0,     0,     0,     0,     0,\n",
              "           0,     0,     0,     0,     0,     0,     0,     0,     0,\n",
              "           0,     0,     0,     0,     0,     0,     0,     0,     0,\n",
              "           0,     0,     0,     0,     0,     0,     0,     0,     0,\n",
              "           0,     0,     0,     0,     0,     0,     0,     0,     0,\n",
              "           0,     0,     0,     0,     0,     0,     0,     0,     0,\n",
              "           0,     0,     0,     0,     0,     0,     0,     0,     0,\n",
              "           0,     0,     0,     0,     0,     0,     0,     0,     0,\n",
              "           0,     0,     0,     0,     0,     0,     0,     0,     0,\n",
              "           0,     0,     0,     0,     0,     0,     0,     0,     0,\n",
              "           0,     0,     0,     0,     0,     0,     0,     0,     0,\n",
              "           0,     0,     0,     0,     0,     0,     0,     0,     0,\n",
              "           0,     0,     0,     0,     0,     0,     0,     0,     0,\n",
              "           0,     0,     0,     0,     0,     0,     0,     0,     0,\n",
              "           0,     0,     0,     0,     0,     0,     0,     0,     0,\n",
              "           0,     0,     0,     0,     0,     0,     0,     0,     0,\n",
              "           0,     0,     0,     0,     0,     0,     0,     0,     0,\n",
              "           0,     0,     0,     0,     0,     0,     0,     0,     0,\n",
              "           0,     0,     0,     0,     0,     0,     0,     0,     0,\n",
              "           0,     0,     0], dtype=int32)"
            ]
          },
          "metadata": {
            "tags": []
          },
          "execution_count": 13
        }
      ]
    },
    {
      "cell_type": "code",
      "metadata": {
        "colab": {
          "base_uri": "https://localhost:8080/",
          "height": 439
        },
        "id": "CHsUiZVRviDY",
        "outputId": "ff3849f0-69c7-4bdb-e05b-a7829e3ee9c2"
      },
      "source": [
        "pd.DataFrame(padded)"
      ],
      "execution_count": null,
      "outputs": [
        {
          "output_type": "execute_result",
          "data": {
            "text/html": [
              "<div>\n",
              "<style scoped>\n",
              "    .dataframe tbody tr th:only-of-type {\n",
              "        vertical-align: middle;\n",
              "    }\n",
              "\n",
              "    .dataframe tbody tr th {\n",
              "        vertical-align: top;\n",
              "    }\n",
              "\n",
              "    .dataframe thead th {\n",
              "        text-align: right;\n",
              "    }\n",
              "</style>\n",
              "<table border=\"1\" class=\"dataframe\">\n",
              "  <thead>\n",
              "    <tr style=\"text-align: right;\">\n",
              "      <th></th>\n",
              "      <th>0</th>\n",
              "      <th>1</th>\n",
              "      <th>2</th>\n",
              "      <th>3</th>\n",
              "      <th>4</th>\n",
              "      <th>5</th>\n",
              "      <th>6</th>\n",
              "      <th>7</th>\n",
              "      <th>8</th>\n",
              "      <th>9</th>\n",
              "      <th>10</th>\n",
              "      <th>11</th>\n",
              "      <th>12</th>\n",
              "      <th>13</th>\n",
              "      <th>14</th>\n",
              "      <th>15</th>\n",
              "      <th>16</th>\n",
              "      <th>17</th>\n",
              "      <th>18</th>\n",
              "      <th>19</th>\n",
              "      <th>20</th>\n",
              "      <th>21</th>\n",
              "      <th>22</th>\n",
              "      <th>23</th>\n",
              "      <th>24</th>\n",
              "      <th>25</th>\n",
              "      <th>26</th>\n",
              "      <th>27</th>\n",
              "      <th>28</th>\n",
              "      <th>29</th>\n",
              "      <th>30</th>\n",
              "      <th>31</th>\n",
              "      <th>32</th>\n",
              "      <th>33</th>\n",
              "      <th>34</th>\n",
              "      <th>35</th>\n",
              "      <th>36</th>\n",
              "      <th>37</th>\n",
              "      <th>38</th>\n",
              "      <th>39</th>\n",
              "      <th>...</th>\n",
              "      <th>845</th>\n",
              "      <th>846</th>\n",
              "      <th>847</th>\n",
              "      <th>848</th>\n",
              "      <th>849</th>\n",
              "      <th>850</th>\n",
              "      <th>851</th>\n",
              "      <th>852</th>\n",
              "      <th>853</th>\n",
              "      <th>854</th>\n",
              "      <th>855</th>\n",
              "      <th>856</th>\n",
              "      <th>857</th>\n",
              "      <th>858</th>\n",
              "      <th>859</th>\n",
              "      <th>860</th>\n",
              "      <th>861</th>\n",
              "      <th>862</th>\n",
              "      <th>863</th>\n",
              "      <th>864</th>\n",
              "      <th>865</th>\n",
              "      <th>866</th>\n",
              "      <th>867</th>\n",
              "      <th>868</th>\n",
              "      <th>869</th>\n",
              "      <th>870</th>\n",
              "      <th>871</th>\n",
              "      <th>872</th>\n",
              "      <th>873</th>\n",
              "      <th>874</th>\n",
              "      <th>875</th>\n",
              "      <th>876</th>\n",
              "      <th>877</th>\n",
              "      <th>878</th>\n",
              "      <th>879</th>\n",
              "      <th>880</th>\n",
              "      <th>881</th>\n",
              "      <th>882</th>\n",
              "      <th>883</th>\n",
              "      <th>884</th>\n",
              "    </tr>\n",
              "  </thead>\n",
              "  <tbody>\n",
              "    <tr>\n",
              "      <th>0</th>\n",
              "      <td>66</td>\n",
              "      <td>14</td>\n",
              "      <td>2</td>\n",
              "      <td>14048</td>\n",
              "      <td>164</td>\n",
              "      <td>3</td>\n",
              "      <td>19</td>\n",
              "      <td>23</td>\n",
              "      <td>86</td>\n",
              "      <td>0</td>\n",
              "      <td>0</td>\n",
              "      <td>0</td>\n",
              "      <td>0</td>\n",
              "      <td>0</td>\n",
              "      <td>0</td>\n",
              "      <td>0</td>\n",
              "      <td>0</td>\n",
              "      <td>0</td>\n",
              "      <td>0</td>\n",
              "      <td>0</td>\n",
              "      <td>0</td>\n",
              "      <td>0</td>\n",
              "      <td>0</td>\n",
              "      <td>0</td>\n",
              "      <td>0</td>\n",
              "      <td>0</td>\n",
              "      <td>0</td>\n",
              "      <td>0</td>\n",
              "      <td>0</td>\n",
              "      <td>0</td>\n",
              "      <td>0</td>\n",
              "      <td>0</td>\n",
              "      <td>0</td>\n",
              "      <td>0</td>\n",
              "      <td>0</td>\n",
              "      <td>0</td>\n",
              "      <td>0</td>\n",
              "      <td>0</td>\n",
              "      <td>0</td>\n",
              "      <td>0</td>\n",
              "      <td>...</td>\n",
              "      <td>0</td>\n",
              "      <td>0</td>\n",
              "      <td>0</td>\n",
              "      <td>0</td>\n",
              "      <td>0</td>\n",
              "      <td>0</td>\n",
              "      <td>0</td>\n",
              "      <td>0</td>\n",
              "      <td>0</td>\n",
              "      <td>0</td>\n",
              "      <td>0</td>\n",
              "      <td>0</td>\n",
              "      <td>0</td>\n",
              "      <td>0</td>\n",
              "      <td>0</td>\n",
              "      <td>0</td>\n",
              "      <td>0</td>\n",
              "      <td>0</td>\n",
              "      <td>0</td>\n",
              "      <td>0</td>\n",
              "      <td>0</td>\n",
              "      <td>0</td>\n",
              "      <td>0</td>\n",
              "      <td>0</td>\n",
              "      <td>0</td>\n",
              "      <td>0</td>\n",
              "      <td>0</td>\n",
              "      <td>0</td>\n",
              "      <td>0</td>\n",
              "      <td>0</td>\n",
              "      <td>0</td>\n",
              "      <td>0</td>\n",
              "      <td>0</td>\n",
              "      <td>0</td>\n",
              "      <td>0</td>\n",
              "      <td>0</td>\n",
              "      <td>0</td>\n",
              "      <td>0</td>\n",
              "      <td>0</td>\n",
              "      <td>0</td>\n",
              "    </tr>\n",
              "    <tr>\n",
              "      <th>1</th>\n",
              "      <td>20</td>\n",
              "      <td>4</td>\n",
              "      <td>23</td>\n",
              "      <td>86</td>\n",
              "      <td>150</td>\n",
              "      <td>82</td>\n",
              "      <td>3</td>\n",
              "      <td>4028</td>\n",
              "      <td>792</td>\n",
              "      <td>384</td>\n",
              "      <td>622</td>\n",
              "      <td>153</td>\n",
              "      <td>112</td>\n",
              "      <td>49</td>\n",
              "      <td>1724</td>\n",
              "      <td>13</td>\n",
              "      <td>20723</td>\n",
              "      <td>48</td>\n",
              "      <td>47</td>\n",
              "      <td>3025</td>\n",
              "      <td>0</td>\n",
              "      <td>0</td>\n",
              "      <td>0</td>\n",
              "      <td>0</td>\n",
              "      <td>0</td>\n",
              "      <td>0</td>\n",
              "      <td>0</td>\n",
              "      <td>0</td>\n",
              "      <td>0</td>\n",
              "      <td>0</td>\n",
              "      <td>0</td>\n",
              "      <td>0</td>\n",
              "      <td>0</td>\n",
              "      <td>0</td>\n",
              "      <td>0</td>\n",
              "      <td>0</td>\n",
              "      <td>0</td>\n",
              "      <td>0</td>\n",
              "      <td>0</td>\n",
              "      <td>0</td>\n",
              "      <td>...</td>\n",
              "      <td>0</td>\n",
              "      <td>0</td>\n",
              "      <td>0</td>\n",
              "      <td>0</td>\n",
              "      <td>0</td>\n",
              "      <td>0</td>\n",
              "      <td>0</td>\n",
              "      <td>0</td>\n",
              "      <td>0</td>\n",
              "      <td>0</td>\n",
              "      <td>0</td>\n",
              "      <td>0</td>\n",
              "      <td>0</td>\n",
              "      <td>0</td>\n",
              "      <td>0</td>\n",
              "      <td>0</td>\n",
              "      <td>0</td>\n",
              "      <td>0</td>\n",
              "      <td>0</td>\n",
              "      <td>0</td>\n",
              "      <td>0</td>\n",
              "      <td>0</td>\n",
              "      <td>0</td>\n",
              "      <td>0</td>\n",
              "      <td>0</td>\n",
              "      <td>0</td>\n",
              "      <td>0</td>\n",
              "      <td>0</td>\n",
              "      <td>0</td>\n",
              "      <td>0</td>\n",
              "      <td>0</td>\n",
              "      <td>0</td>\n",
              "      <td>0</td>\n",
              "      <td>0</td>\n",
              "      <td>0</td>\n",
              "      <td>0</td>\n",
              "      <td>0</td>\n",
              "      <td>0</td>\n",
              "      <td>0</td>\n",
              "      <td>0</td>\n",
              "    </tr>\n",
              "    <tr>\n",
              "      <th>2</th>\n",
              "      <td>1414</td>\n",
              "      <td>9</td>\n",
              "      <td>20724</td>\n",
              "      <td>14</td>\n",
              "      <td>2</td>\n",
              "      <td>82</td>\n",
              "      <td>6</td>\n",
              "      <td>13</td>\n",
              "      <td>146</td>\n",
              "      <td>231</td>\n",
              "      <td>11058</td>\n",
              "      <td>0</td>\n",
              "      <td>0</td>\n",
              "      <td>0</td>\n",
              "      <td>0</td>\n",
              "      <td>0</td>\n",
              "      <td>0</td>\n",
              "      <td>0</td>\n",
              "      <td>0</td>\n",
              "      <td>0</td>\n",
              "      <td>0</td>\n",
              "      <td>0</td>\n",
              "      <td>0</td>\n",
              "      <td>0</td>\n",
              "      <td>0</td>\n",
              "      <td>0</td>\n",
              "      <td>0</td>\n",
              "      <td>0</td>\n",
              "      <td>0</td>\n",
              "      <td>0</td>\n",
              "      <td>0</td>\n",
              "      <td>0</td>\n",
              "      <td>0</td>\n",
              "      <td>0</td>\n",
              "      <td>0</td>\n",
              "      <td>0</td>\n",
              "      <td>0</td>\n",
              "      <td>0</td>\n",
              "      <td>0</td>\n",
              "      <td>0</td>\n",
              "      <td>...</td>\n",
              "      <td>0</td>\n",
              "      <td>0</td>\n",
              "      <td>0</td>\n",
              "      <td>0</td>\n",
              "      <td>0</td>\n",
              "      <td>0</td>\n",
              "      <td>0</td>\n",
              "      <td>0</td>\n",
              "      <td>0</td>\n",
              "      <td>0</td>\n",
              "      <td>0</td>\n",
              "      <td>0</td>\n",
              "      <td>0</td>\n",
              "      <td>0</td>\n",
              "      <td>0</td>\n",
              "      <td>0</td>\n",
              "      <td>0</td>\n",
              "      <td>0</td>\n",
              "      <td>0</td>\n",
              "      <td>0</td>\n",
              "      <td>0</td>\n",
              "      <td>0</td>\n",
              "      <td>0</td>\n",
              "      <td>0</td>\n",
              "      <td>0</td>\n",
              "      <td>0</td>\n",
              "      <td>0</td>\n",
              "      <td>0</td>\n",
              "      <td>0</td>\n",
              "      <td>0</td>\n",
              "      <td>0</td>\n",
              "      <td>0</td>\n",
              "      <td>0</td>\n",
              "      <td>0</td>\n",
              "      <td>0</td>\n",
              "      <td>0</td>\n",
              "      <td>0</td>\n",
              "      <td>0</td>\n",
              "      <td>0</td>\n",
              "      <td>0</td>\n",
              "    </tr>\n",
              "    <tr>\n",
              "      <th>3</th>\n",
              "      <td>142</td>\n",
              "      <td>143</td>\n",
              "      <td>138</td>\n",
              "      <td>144</td>\n",
              "      <td>0</td>\n",
              "      <td>0</td>\n",
              "      <td>0</td>\n",
              "      <td>0</td>\n",
              "      <td>0</td>\n",
              "      <td>0</td>\n",
              "      <td>0</td>\n",
              "      <td>0</td>\n",
              "      <td>0</td>\n",
              "      <td>0</td>\n",
              "      <td>0</td>\n",
              "      <td>0</td>\n",
              "      <td>0</td>\n",
              "      <td>0</td>\n",
              "      <td>0</td>\n",
              "      <td>0</td>\n",
              "      <td>0</td>\n",
              "      <td>0</td>\n",
              "      <td>0</td>\n",
              "      <td>0</td>\n",
              "      <td>0</td>\n",
              "      <td>0</td>\n",
              "      <td>0</td>\n",
              "      <td>0</td>\n",
              "      <td>0</td>\n",
              "      <td>0</td>\n",
              "      <td>0</td>\n",
              "      <td>0</td>\n",
              "      <td>0</td>\n",
              "      <td>0</td>\n",
              "      <td>0</td>\n",
              "      <td>0</td>\n",
              "      <td>0</td>\n",
              "      <td>0</td>\n",
              "      <td>0</td>\n",
              "      <td>0</td>\n",
              "      <td>...</td>\n",
              "      <td>0</td>\n",
              "      <td>0</td>\n",
              "      <td>0</td>\n",
              "      <td>0</td>\n",
              "      <td>0</td>\n",
              "      <td>0</td>\n",
              "      <td>0</td>\n",
              "      <td>0</td>\n",
              "      <td>0</td>\n",
              "      <td>0</td>\n",
              "      <td>0</td>\n",
              "      <td>0</td>\n",
              "      <td>0</td>\n",
              "      <td>0</td>\n",
              "      <td>0</td>\n",
              "      <td>0</td>\n",
              "      <td>0</td>\n",
              "      <td>0</td>\n",
              "      <td>0</td>\n",
              "      <td>0</td>\n",
              "      <td>0</td>\n",
              "      <td>0</td>\n",
              "      <td>0</td>\n",
              "      <td>0</td>\n",
              "      <td>0</td>\n",
              "      <td>0</td>\n",
              "      <td>0</td>\n",
              "      <td>0</td>\n",
              "      <td>0</td>\n",
              "      <td>0</td>\n",
              "      <td>0</td>\n",
              "      <td>0</td>\n",
              "      <td>0</td>\n",
              "      <td>0</td>\n",
              "      <td>0</td>\n",
              "      <td>0</td>\n",
              "      <td>0</td>\n",
              "      <td>0</td>\n",
              "      <td>0</td>\n",
              "      <td>0</td>\n",
              "    </tr>\n",
              "    <tr>\n",
              "      <th>4</th>\n",
              "      <td>3026</td>\n",
              "      <td>1586</td>\n",
              "      <td>1532</td>\n",
              "      <td>1182</td>\n",
              "      <td>1159</td>\n",
              "      <td>4394</td>\n",
              "      <td>3442</td>\n",
              "      <td>20725</td>\n",
              "      <td>14049</td>\n",
              "      <td>3027</td>\n",
              "      <td>2733</td>\n",
              "      <td>2307</td>\n",
              "      <td>555</td>\n",
              "      <td>2947</td>\n",
              "      <td>555</td>\n",
              "      <td>4633</td>\n",
              "      <td>249</td>\n",
              "      <td>1127</td>\n",
              "      <td>651</td>\n",
              "      <td>0</td>\n",
              "      <td>0</td>\n",
              "      <td>0</td>\n",
              "      <td>0</td>\n",
              "      <td>0</td>\n",
              "      <td>0</td>\n",
              "      <td>0</td>\n",
              "      <td>0</td>\n",
              "      <td>0</td>\n",
              "      <td>0</td>\n",
              "      <td>0</td>\n",
              "      <td>0</td>\n",
              "      <td>0</td>\n",
              "      <td>0</td>\n",
              "      <td>0</td>\n",
              "      <td>0</td>\n",
              "      <td>0</td>\n",
              "      <td>0</td>\n",
              "      <td>0</td>\n",
              "      <td>0</td>\n",
              "      <td>0</td>\n",
              "      <td>...</td>\n",
              "      <td>0</td>\n",
              "      <td>0</td>\n",
              "      <td>0</td>\n",
              "      <td>0</td>\n",
              "      <td>0</td>\n",
              "      <td>0</td>\n",
              "      <td>0</td>\n",
              "      <td>0</td>\n",
              "      <td>0</td>\n",
              "      <td>0</td>\n",
              "      <td>0</td>\n",
              "      <td>0</td>\n",
              "      <td>0</td>\n",
              "      <td>0</td>\n",
              "      <td>0</td>\n",
              "      <td>0</td>\n",
              "      <td>0</td>\n",
              "      <td>0</td>\n",
              "      <td>0</td>\n",
              "      <td>0</td>\n",
              "      <td>0</td>\n",
              "      <td>0</td>\n",
              "      <td>0</td>\n",
              "      <td>0</td>\n",
              "      <td>0</td>\n",
              "      <td>0</td>\n",
              "      <td>0</td>\n",
              "      <td>0</td>\n",
              "      <td>0</td>\n",
              "      <td>0</td>\n",
              "      <td>0</td>\n",
              "      <td>0</td>\n",
              "      <td>0</td>\n",
              "      <td>0</td>\n",
              "      <td>0</td>\n",
              "      <td>0</td>\n",
              "      <td>0</td>\n",
              "      <td>0</td>\n",
              "      <td>0</td>\n",
              "      <td>0</td>\n",
              "    </tr>\n",
              "    <tr>\n",
              "      <th>...</th>\n",
              "      <td>...</td>\n",
              "      <td>...</td>\n",
              "      <td>...</td>\n",
              "      <td>...</td>\n",
              "      <td>...</td>\n",
              "      <td>...</td>\n",
              "      <td>...</td>\n",
              "      <td>...</td>\n",
              "      <td>...</td>\n",
              "      <td>...</td>\n",
              "      <td>...</td>\n",
              "      <td>...</td>\n",
              "      <td>...</td>\n",
              "      <td>...</td>\n",
              "      <td>...</td>\n",
              "      <td>...</td>\n",
              "      <td>...</td>\n",
              "      <td>...</td>\n",
              "      <td>...</td>\n",
              "      <td>...</td>\n",
              "      <td>...</td>\n",
              "      <td>...</td>\n",
              "      <td>...</td>\n",
              "      <td>...</td>\n",
              "      <td>...</td>\n",
              "      <td>...</td>\n",
              "      <td>...</td>\n",
              "      <td>...</td>\n",
              "      <td>...</td>\n",
              "      <td>...</td>\n",
              "      <td>...</td>\n",
              "      <td>...</td>\n",
              "      <td>...</td>\n",
              "      <td>...</td>\n",
              "      <td>...</td>\n",
              "      <td>...</td>\n",
              "      <td>...</td>\n",
              "      <td>...</td>\n",
              "      <td>...</td>\n",
              "      <td>...</td>\n",
              "      <td>...</td>\n",
              "      <td>...</td>\n",
              "      <td>...</td>\n",
              "      <td>...</td>\n",
              "      <td>...</td>\n",
              "      <td>...</td>\n",
              "      <td>...</td>\n",
              "      <td>...</td>\n",
              "      <td>...</td>\n",
              "      <td>...</td>\n",
              "      <td>...</td>\n",
              "      <td>...</td>\n",
              "      <td>...</td>\n",
              "      <td>...</td>\n",
              "      <td>...</td>\n",
              "      <td>...</td>\n",
              "      <td>...</td>\n",
              "      <td>...</td>\n",
              "      <td>...</td>\n",
              "      <td>...</td>\n",
              "      <td>...</td>\n",
              "      <td>...</td>\n",
              "      <td>...</td>\n",
              "      <td>...</td>\n",
              "      <td>...</td>\n",
              "      <td>...</td>\n",
              "      <td>...</td>\n",
              "      <td>...</td>\n",
              "      <td>...</td>\n",
              "      <td>...</td>\n",
              "      <td>...</td>\n",
              "      <td>...</td>\n",
              "      <td>...</td>\n",
              "      <td>...</td>\n",
              "      <td>...</td>\n",
              "      <td>...</td>\n",
              "      <td>...</td>\n",
              "      <td>...</td>\n",
              "      <td>...</td>\n",
              "      <td>...</td>\n",
              "      <td>...</td>\n",
              "    </tr>\n",
              "    <tr>\n",
              "      <th>27903</th>\n",
              "      <td>11</td>\n",
              "      <td>524</td>\n",
              "      <td>172</td>\n",
              "      <td>48262</td>\n",
              "      <td>124</td>\n",
              "      <td>31</td>\n",
              "      <td>8277</td>\n",
              "      <td>31</td>\n",
              "      <td>734</td>\n",
              "      <td>218</td>\n",
              "      <td>4324</td>\n",
              "      <td>31</td>\n",
              "      <td>734</td>\n",
              "      <td>48263</td>\n",
              "      <td>31</td>\n",
              "      <td>317</td>\n",
              "      <td>218</td>\n",
              "      <td>1036</td>\n",
              "      <td>15</td>\n",
              "      <td>2868</td>\n",
              "      <td>31</td>\n",
              "      <td>317</td>\n",
              "      <td>48264</td>\n",
              "      <td>2</td>\n",
              "      <td>334</td>\n",
              "      <td>172</td>\n",
              "      <td>151</td>\n",
              "      <td>5115</td>\n",
              "      <td>0</td>\n",
              "      <td>0</td>\n",
              "      <td>0</td>\n",
              "      <td>0</td>\n",
              "      <td>0</td>\n",
              "      <td>0</td>\n",
              "      <td>0</td>\n",
              "      <td>0</td>\n",
              "      <td>0</td>\n",
              "      <td>0</td>\n",
              "      <td>0</td>\n",
              "      <td>0</td>\n",
              "      <td>...</td>\n",
              "      <td>0</td>\n",
              "      <td>0</td>\n",
              "      <td>0</td>\n",
              "      <td>0</td>\n",
              "      <td>0</td>\n",
              "      <td>0</td>\n",
              "      <td>0</td>\n",
              "      <td>0</td>\n",
              "      <td>0</td>\n",
              "      <td>0</td>\n",
              "      <td>0</td>\n",
              "      <td>0</td>\n",
              "      <td>0</td>\n",
              "      <td>0</td>\n",
              "      <td>0</td>\n",
              "      <td>0</td>\n",
              "      <td>0</td>\n",
              "      <td>0</td>\n",
              "      <td>0</td>\n",
              "      <td>0</td>\n",
              "      <td>0</td>\n",
              "      <td>0</td>\n",
              "      <td>0</td>\n",
              "      <td>0</td>\n",
              "      <td>0</td>\n",
              "      <td>0</td>\n",
              "      <td>0</td>\n",
              "      <td>0</td>\n",
              "      <td>0</td>\n",
              "      <td>0</td>\n",
              "      <td>0</td>\n",
              "      <td>0</td>\n",
              "      <td>0</td>\n",
              "      <td>0</td>\n",
              "      <td>0</td>\n",
              "      <td>0</td>\n",
              "      <td>0</td>\n",
              "      <td>0</td>\n",
              "      <td>0</td>\n",
              "      <td>0</td>\n",
              "    </tr>\n",
              "    <tr>\n",
              "      <th>27904</th>\n",
              "      <td>4</td>\n",
              "      <td>44</td>\n",
              "      <td>12</td>\n",
              "      <td>24</td>\n",
              "      <td>1437</td>\n",
              "      <td>27</td>\n",
              "      <td>0</td>\n",
              "      <td>0</td>\n",
              "      <td>0</td>\n",
              "      <td>0</td>\n",
              "      <td>0</td>\n",
              "      <td>0</td>\n",
              "      <td>0</td>\n",
              "      <td>0</td>\n",
              "      <td>0</td>\n",
              "      <td>0</td>\n",
              "      <td>0</td>\n",
              "      <td>0</td>\n",
              "      <td>0</td>\n",
              "      <td>0</td>\n",
              "      <td>0</td>\n",
              "      <td>0</td>\n",
              "      <td>0</td>\n",
              "      <td>0</td>\n",
              "      <td>0</td>\n",
              "      <td>0</td>\n",
              "      <td>0</td>\n",
              "      <td>0</td>\n",
              "      <td>0</td>\n",
              "      <td>0</td>\n",
              "      <td>0</td>\n",
              "      <td>0</td>\n",
              "      <td>0</td>\n",
              "      <td>0</td>\n",
              "      <td>0</td>\n",
              "      <td>0</td>\n",
              "      <td>0</td>\n",
              "      <td>0</td>\n",
              "      <td>0</td>\n",
              "      <td>0</td>\n",
              "      <td>...</td>\n",
              "      <td>0</td>\n",
              "      <td>0</td>\n",
              "      <td>0</td>\n",
              "      <td>0</td>\n",
              "      <td>0</td>\n",
              "      <td>0</td>\n",
              "      <td>0</td>\n",
              "      <td>0</td>\n",
              "      <td>0</td>\n",
              "      <td>0</td>\n",
              "      <td>0</td>\n",
              "      <td>0</td>\n",
              "      <td>0</td>\n",
              "      <td>0</td>\n",
              "      <td>0</td>\n",
              "      <td>0</td>\n",
              "      <td>0</td>\n",
              "      <td>0</td>\n",
              "      <td>0</td>\n",
              "      <td>0</td>\n",
              "      <td>0</td>\n",
              "      <td>0</td>\n",
              "      <td>0</td>\n",
              "      <td>0</td>\n",
              "      <td>0</td>\n",
              "      <td>0</td>\n",
              "      <td>0</td>\n",
              "      <td>0</td>\n",
              "      <td>0</td>\n",
              "      <td>0</td>\n",
              "      <td>0</td>\n",
              "      <td>0</td>\n",
              "      <td>0</td>\n",
              "      <td>0</td>\n",
              "      <td>0</td>\n",
              "      <td>0</td>\n",
              "      <td>0</td>\n",
              "      <td>0</td>\n",
              "      <td>0</td>\n",
              "      <td>0</td>\n",
              "    </tr>\n",
              "    <tr>\n",
              "      <th>27905</th>\n",
              "      <td>49</td>\n",
              "      <td>156</td>\n",
              "      <td>121</td>\n",
              "      <td>101</td>\n",
              "      <td>1203</td>\n",
              "      <td>0</td>\n",
              "      <td>0</td>\n",
              "      <td>0</td>\n",
              "      <td>0</td>\n",
              "      <td>0</td>\n",
              "      <td>0</td>\n",
              "      <td>0</td>\n",
              "      <td>0</td>\n",
              "      <td>0</td>\n",
              "      <td>0</td>\n",
              "      <td>0</td>\n",
              "      <td>0</td>\n",
              "      <td>0</td>\n",
              "      <td>0</td>\n",
              "      <td>0</td>\n",
              "      <td>0</td>\n",
              "      <td>0</td>\n",
              "      <td>0</td>\n",
              "      <td>0</td>\n",
              "      <td>0</td>\n",
              "      <td>0</td>\n",
              "      <td>0</td>\n",
              "      <td>0</td>\n",
              "      <td>0</td>\n",
              "      <td>0</td>\n",
              "      <td>0</td>\n",
              "      <td>0</td>\n",
              "      <td>0</td>\n",
              "      <td>0</td>\n",
              "      <td>0</td>\n",
              "      <td>0</td>\n",
              "      <td>0</td>\n",
              "      <td>0</td>\n",
              "      <td>0</td>\n",
              "      <td>0</td>\n",
              "      <td>...</td>\n",
              "      <td>0</td>\n",
              "      <td>0</td>\n",
              "      <td>0</td>\n",
              "      <td>0</td>\n",
              "      <td>0</td>\n",
              "      <td>0</td>\n",
              "      <td>0</td>\n",
              "      <td>0</td>\n",
              "      <td>0</td>\n",
              "      <td>0</td>\n",
              "      <td>0</td>\n",
              "      <td>0</td>\n",
              "      <td>0</td>\n",
              "      <td>0</td>\n",
              "      <td>0</td>\n",
              "      <td>0</td>\n",
              "      <td>0</td>\n",
              "      <td>0</td>\n",
              "      <td>0</td>\n",
              "      <td>0</td>\n",
              "      <td>0</td>\n",
              "      <td>0</td>\n",
              "      <td>0</td>\n",
              "      <td>0</td>\n",
              "      <td>0</td>\n",
              "      <td>0</td>\n",
              "      <td>0</td>\n",
              "      <td>0</td>\n",
              "      <td>0</td>\n",
              "      <td>0</td>\n",
              "      <td>0</td>\n",
              "      <td>0</td>\n",
              "      <td>0</td>\n",
              "      <td>0</td>\n",
              "      <td>0</td>\n",
              "      <td>0</td>\n",
              "      <td>0</td>\n",
              "      <td>0</td>\n",
              "      <td>0</td>\n",
              "      <td>0</td>\n",
              "    </tr>\n",
              "    <tr>\n",
              "      <th>27906</th>\n",
              "      <td>5</td>\n",
              "      <td>119</td>\n",
              "      <td>18</td>\n",
              "      <td>8</td>\n",
              "      <td>2</td>\n",
              "      <td>1351</td>\n",
              "      <td>98</td>\n",
              "      <td>6</td>\n",
              "      <td>70</td>\n",
              "      <td>72</td>\n",
              "      <td>2914</td>\n",
              "      <td>5</td>\n",
              "      <td>48265</td>\n",
              "      <td>2057</td>\n",
              "      <td>25</td>\n",
              "      <td>48266</td>\n",
              "      <td>7</td>\n",
              "      <td>29</td>\n",
              "      <td>1375</td>\n",
              "      <td>13</td>\n",
              "      <td>149</td>\n",
              "      <td>26</td>\n",
              "      <td>223</td>\n",
              "      <td>0</td>\n",
              "      <td>0</td>\n",
              "      <td>0</td>\n",
              "      <td>0</td>\n",
              "      <td>0</td>\n",
              "      <td>0</td>\n",
              "      <td>0</td>\n",
              "      <td>0</td>\n",
              "      <td>0</td>\n",
              "      <td>0</td>\n",
              "      <td>0</td>\n",
              "      <td>0</td>\n",
              "      <td>0</td>\n",
              "      <td>0</td>\n",
              "      <td>0</td>\n",
              "      <td>0</td>\n",
              "      <td>0</td>\n",
              "      <td>...</td>\n",
              "      <td>0</td>\n",
              "      <td>0</td>\n",
              "      <td>0</td>\n",
              "      <td>0</td>\n",
              "      <td>0</td>\n",
              "      <td>0</td>\n",
              "      <td>0</td>\n",
              "      <td>0</td>\n",
              "      <td>0</td>\n",
              "      <td>0</td>\n",
              "      <td>0</td>\n",
              "      <td>0</td>\n",
              "      <td>0</td>\n",
              "      <td>0</td>\n",
              "      <td>0</td>\n",
              "      <td>0</td>\n",
              "      <td>0</td>\n",
              "      <td>0</td>\n",
              "      <td>0</td>\n",
              "      <td>0</td>\n",
              "      <td>0</td>\n",
              "      <td>0</td>\n",
              "      <td>0</td>\n",
              "      <td>0</td>\n",
              "      <td>0</td>\n",
              "      <td>0</td>\n",
              "      <td>0</td>\n",
              "      <td>0</td>\n",
              "      <td>0</td>\n",
              "      <td>0</td>\n",
              "      <td>0</td>\n",
              "      <td>0</td>\n",
              "      <td>0</td>\n",
              "      <td>0</td>\n",
              "      <td>0</td>\n",
              "      <td>0</td>\n",
              "      <td>0</td>\n",
              "      <td>0</td>\n",
              "      <td>0</td>\n",
              "      <td>0</td>\n",
              "    </tr>\n",
              "    <tr>\n",
              "      <th>27907</th>\n",
              "      <td>142</td>\n",
              "      <td>143</td>\n",
              "      <td>138</td>\n",
              "      <td>144</td>\n",
              "      <td>0</td>\n",
              "      <td>0</td>\n",
              "      <td>0</td>\n",
              "      <td>0</td>\n",
              "      <td>0</td>\n",
              "      <td>0</td>\n",
              "      <td>0</td>\n",
              "      <td>0</td>\n",
              "      <td>0</td>\n",
              "      <td>0</td>\n",
              "      <td>0</td>\n",
              "      <td>0</td>\n",
              "      <td>0</td>\n",
              "      <td>0</td>\n",
              "      <td>0</td>\n",
              "      <td>0</td>\n",
              "      <td>0</td>\n",
              "      <td>0</td>\n",
              "      <td>0</td>\n",
              "      <td>0</td>\n",
              "      <td>0</td>\n",
              "      <td>0</td>\n",
              "      <td>0</td>\n",
              "      <td>0</td>\n",
              "      <td>0</td>\n",
              "      <td>0</td>\n",
              "      <td>0</td>\n",
              "      <td>0</td>\n",
              "      <td>0</td>\n",
              "      <td>0</td>\n",
              "      <td>0</td>\n",
              "      <td>0</td>\n",
              "      <td>0</td>\n",
              "      <td>0</td>\n",
              "      <td>0</td>\n",
              "      <td>0</td>\n",
              "      <td>...</td>\n",
              "      <td>0</td>\n",
              "      <td>0</td>\n",
              "      <td>0</td>\n",
              "      <td>0</td>\n",
              "      <td>0</td>\n",
              "      <td>0</td>\n",
              "      <td>0</td>\n",
              "      <td>0</td>\n",
              "      <td>0</td>\n",
              "      <td>0</td>\n",
              "      <td>0</td>\n",
              "      <td>0</td>\n",
              "      <td>0</td>\n",
              "      <td>0</td>\n",
              "      <td>0</td>\n",
              "      <td>0</td>\n",
              "      <td>0</td>\n",
              "      <td>0</td>\n",
              "      <td>0</td>\n",
              "      <td>0</td>\n",
              "      <td>0</td>\n",
              "      <td>0</td>\n",
              "      <td>0</td>\n",
              "      <td>0</td>\n",
              "      <td>0</td>\n",
              "      <td>0</td>\n",
              "      <td>0</td>\n",
              "      <td>0</td>\n",
              "      <td>0</td>\n",
              "      <td>0</td>\n",
              "      <td>0</td>\n",
              "      <td>0</td>\n",
              "      <td>0</td>\n",
              "      <td>0</td>\n",
              "      <td>0</td>\n",
              "      <td>0</td>\n",
              "      <td>0</td>\n",
              "      <td>0</td>\n",
              "      <td>0</td>\n",
              "      <td>0</td>\n",
              "    </tr>\n",
              "  </tbody>\n",
              "</table>\n",
              "<p>27908 rows × 885 columns</p>\n",
              "</div>"
            ],
            "text/plain": [
              "        0     1      2      3     4     5    ...  879  880  881  882  883  884\n",
              "0        66    14      2  14048   164     3  ...    0    0    0    0    0    0\n",
              "1        20     4     23     86   150    82  ...    0    0    0    0    0    0\n",
              "2      1414     9  20724     14     2    82  ...    0    0    0    0    0    0\n",
              "3       142   143    138    144     0     0  ...    0    0    0    0    0    0\n",
              "4      3026  1586   1532   1182  1159  4394  ...    0    0    0    0    0    0\n",
              "...     ...   ...    ...    ...   ...   ...  ...  ...  ...  ...  ...  ...  ...\n",
              "27903    11   524    172  48262   124    31  ...    0    0    0    0    0    0\n",
              "27904     4    44     12     24  1437    27  ...    0    0    0    0    0    0\n",
              "27905    49   156    121    101  1203     0  ...    0    0    0    0    0    0\n",
              "27906     5   119     18      8     2  1351  ...    0    0    0    0    0    0\n",
              "27907   142   143    138    144     0     0  ...    0    0    0    0    0    0\n",
              "\n",
              "[27908 rows x 885 columns]"
            ]
          },
          "metadata": {
            "tags": []
          },
          "execution_count": 14
        }
      ]
    },
    {
      "cell_type": "code",
      "metadata": {
        "id": "HTg1BbMq0LGL"
      },
      "source": [
        "from operator import itemgetter"
      ],
      "execution_count": null,
      "outputs": []
    },
    {
      "cell_type": "code",
      "metadata": {
        "colab": {
          "base_uri": "https://localhost:8080/"
        },
        "id": "kqbzbr-T0GS9",
        "outputId": "cf078ca2-b263-45cb-9862-f729838204d7"
      },
      "source": [
        "sorted(tokenizer.word_counts.items(), key=itemgetter(1), reverse = True)[0:100]"
      ],
      "execution_count": null,
      "outputs": [
        {
          "output_type": "execute_result",
          "data": {
            "text/plain": [
              "[('bir', 12844),\n",
              " ('yoxdur', 9768),\n",
              " ('maşın', 7352),\n",
              " ('masin', 6881),\n",
              " ('yoxdu', 6161),\n",
              " ('mator', 6000),\n",
              " ('hec', 5921),\n",
              " ('var', 5737),\n",
              " ('ideal', 5718),\n",
              " ('problemi', 4884),\n",
              " ('vəziyyətdədir', 4688),\n",
              " ('real', 4329),\n",
              " ('heç', 3929),\n",
              " ('ve', 3876),\n",
              " ('2', 3862),\n",
              " ('və', 3767),\n",
              " ('veziyyetdedir', 3747),\n",
              " ('tam', 3518),\n",
              " ('salam', 3498),\n",
              " ('narahat', 3301),\n",
              " ('etmir', 3244),\n",
              " ('ela', 3131),\n",
              " ('barter', 3097),\n",
              " ('yeni', 3060),\n",
              " ('endirim', 2897),\n",
              " ('olar', 2882),\n",
              " ('cox', 2657),\n",
              " ('karopka', 2531),\n",
              " ('olunub', 2391),\n",
              " ('teze', 2359),\n",
              " ('avtomobil', 2358),\n",
              " ('salon', 2318),\n",
              " ('satilir', 2295),\n",
              " ('arxa', 2261),\n",
              " ('xerc', 2208),\n",
              " ('4', 2157),\n",
              " ('udar', 2143),\n",
              " ('mawin', 2140),\n",
              " ('teleb', 2105),\n",
              " ('əla', 2086),\n",
              " ('tecili', 2072),\n",
              " ('kimi', 2015),\n",
              " ('yaxşı', 1886),\n",
              " ('ciddi', 1863),\n",
              " ('1', 1850),\n",
              " ('etsin', 1696),\n",
              " ('zeng', 1689),\n",
              " ('çox', 1685),\n",
              " ('motor', 1679),\n",
              " ('karobka', 1667),\n",
              " ('bilersiz', 1662),\n",
              " ('olacaq', 1637),\n",
              " ('vuruq', 1630),\n",
              " ('full', 1595),\n",
              " ('udari', 1559),\n",
              " ('tələb', 1516),\n",
              " ('öz', 1513),\n",
              " ('yaxsi', 1512),\n",
              " ('kredit', 1511),\n",
              " ('most', 1502),\n",
              " ('oz', 1487),\n",
              " ('her', 1483),\n",
              " ('xərc', 1476),\n",
              " ('zavod', 1452),\n",
              " ('masinin', 1439),\n",
              " ('bütün', 1428),\n",
              " ('maşının', 1422),\n",
              " ('problem', 1403),\n",
              " ('3', 1396),\n",
              " ('tekerler', 1379),\n",
              " ('ile', 1359),\n",
              " ('satılır', 1346),\n",
              " ('veziyyetdedi', 1319),\n",
              " ('super', 1319),\n",
              " ('ilə', 1307),\n",
              " ('sonra', 1295),\n",
              " ('üçün', 1286),\n",
              " ('təzə', 1275),\n",
              " ('harda', 1269),\n",
              " ('5', 1263),\n",
              " ('prablemi', 1253),\n",
              " ('masindi', 1245),\n",
              " ('amg', 1235),\n",
              " ('saz', 1212),\n",
              " ('veziyetdedir', 1202),\n",
              " ('olunur', 1201),\n",
              " ('yoxlada', 1187),\n",
              " ('otur', 1183),\n",
              " ('ilkin', 1181),\n",
              " ('qiymet', 1174),\n",
              " ('maşındır', 1166),\n",
              " ('butun', 1165),\n",
              " ('ucun', 1164),\n",
              " ('azn', 1151),\n",
              " ('bu', 1132),\n",
              " ('almaniyadan', 1124),\n",
              " ('ehtiyac', 1081),\n",
              " ('mümkündür', 1078),\n",
              " ('yerde', 1060),\n",
              " ('təcili', 1055)]"
            ]
          },
          "metadata": {
            "tags": []
          },
          "execution_count": 16
        }
      ]
    },
    {
      "cell_type": "code",
      "metadata": {
        "colab": {
          "base_uri": "https://localhost:8080/"
        },
        "id": "n2yGmv9DzOMI",
        "outputId": "83a7adc0-c18e-4aab-c184-27fb2986f7a2"
      },
      "source": [
        "word_index['telebbetmir']"
      ],
      "execution_count": null,
      "outputs": [
        {
          "output_type": "execute_result",
          "data": {
            "text/plain": [
              "17218"
            ]
          },
          "metadata": {
            "tags": []
          },
          "execution_count": 17
        }
      ]
    },
    {
      "cell_type": "code",
      "metadata": {
        "colab": {
          "base_uri": "https://localhost:8080/"
        },
        "id": "i-YcrQkk690V",
        "outputId": "cd1c4f37-5267-4826-d2d8-a0d2981e8191"
      },
      "source": [
        "tokenizer.word_counts['qiymetde']"
      ],
      "execution_count": null,
      "outputs": [
        {
          "output_type": "execute_result",
          "data": {
            "text/plain": [
              "954"
            ]
          },
          "metadata": {
            "tags": []
          },
          "execution_count": 18
        }
      ]
    },
    {
      "cell_type": "code",
      "metadata": {
        "colab": {
          "base_uri": "https://localhost:8080/"
        },
        "id": "fe1rm5wY7Mas",
        "outputId": "6c29e99a-ed71-4053-d734-49afa077b04c"
      },
      "source": [
        "tokenizer.word_counts['razilasmaq']"
      ],
      "execution_count": null,
      "outputs": [
        {
          "output_type": "execute_result",
          "data": {
            "text/plain": [
              "313"
            ]
          },
          "metadata": {
            "tags": []
          },
          "execution_count": 19
        }
      ]
    },
    {
      "cell_type": "code",
      "metadata": {
        "colab": {
          "base_uri": "https://localhost:8080/"
        },
        "id": "JOwty7Fm-xbY",
        "outputId": "1f79222b-10cd-4e41-de23-d47fcade863f"
      },
      "source": [
        "tokenizer.word_counts['olar']"
      ],
      "execution_count": null,
      "outputs": [
        {
          "output_type": "execute_result",
          "data": {
            "text/plain": [
              "2882"
            ]
          },
          "metadata": {
            "tags": []
          },
          "execution_count": 20
        }
      ]
    },
    {
      "cell_type": "code",
      "metadata": {
        "colab": {
          "base_uri": "https://localhost:8080/"
        },
        "id": "kTm4NCKd-t7F",
        "outputId": "c9cf500e-0974-49fe-876a-a382af396cee"
      },
      "source": [
        "tokenizer.word_counts['maşın']"
      ],
      "execution_count": null,
      "outputs": [
        {
          "output_type": "execute_result",
          "data": {
            "text/plain": [
              "3244"
            ]
          },
          "metadata": {
            "tags": []
          },
          "execution_count": 91
        }
      ]
    },
    {
      "cell_type": "code",
      "metadata": {
        "colab": {
          "base_uri": "https://localhost:8080/"
        },
        "id": "066tZXVq-pKT",
        "outputId": "d6e58ec7-9703-4381-8262-aeddf691de91"
      },
      "source": [
        "tokenizer.word_counts['maşin']"
      ],
      "execution_count": null,
      "outputs": [
        {
          "output_type": "execute_result",
          "data": {
            "text/plain": [
              "456"
            ]
          },
          "metadata": {
            "tags": []
          },
          "execution_count": 90
        }
      ]
    },
    {
      "cell_type": "code",
      "metadata": {
        "colab": {
          "base_uri": "https://localhost:8080/"
        },
        "id": "1iZYnPIj7TF6",
        "outputId": "72fabee5-898e-4301-d6d6-6412ce027a3a"
      },
      "source": [
        "tokenizer.word_counts['mashin']"
      ],
      "execution_count": null,
      "outputs": [
        {
          "output_type": "execute_result",
          "data": {
            "text/plain": [
              "302"
            ]
          },
          "metadata": {
            "tags": []
          },
          "execution_count": 89
        }
      ]
    },
    {
      "cell_type": "code",
      "metadata": {
        "colab": {
          "base_uri": "https://localhost:8080/"
        },
        "id": "smyISmz07X1Y",
        "outputId": "56f5dc2d-e344-4574-b94b-6e97f0fd519b"
      },
      "source": [
        "tokenizer.word_counts['masin']"
      ],
      "execution_count": null,
      "outputs": [
        {
          "output_type": "execute_result",
          "data": {
            "text/plain": [
              "3041"
            ]
          },
          "metadata": {
            "tags": []
          },
          "execution_count": 87
        }
      ]
    },
    {
      "cell_type": "code",
      "metadata": {
        "colab": {
          "base_uri": "https://localhost:8080/"
        },
        "id": "TzIM7c-W7ZoZ",
        "outputId": "a14630b0-1381-4496-ffd4-db2e0c7c0b71"
      },
      "source": [
        "tokenizer.word_counts['mawin']"
      ],
      "execution_count": null,
      "outputs": [
        {
          "output_type": "execute_result",
          "data": {
            "text/plain": [
              "957"
            ]
          },
          "metadata": {
            "tags": []
          },
          "execution_count": 80
        }
      ]
    },
    {
      "cell_type": "code",
      "metadata": {
        "colab": {
          "base_uri": "https://localhost:8080/"
        },
        "id": "b4s5JtYX7boc",
        "outputId": "73a69b42-49d5-4098-d51c-4ace2853843a"
      },
      "source": [
        "3244+3041+957"
      ],
      "execution_count": null,
      "outputs": [
        {
          "output_type": "execute_result",
          "data": {
            "text/plain": [
              "7242"
            ]
          },
          "metadata": {
            "tags": []
          },
          "execution_count": 81
        }
      ]
    },
    {
      "cell_type": "code",
      "metadata": {
        "colab": {
          "base_uri": "https://localhost:8080/"
        },
        "id": "MWWkuDkp8gT4",
        "outputId": "2a6f12c2-3213-4394-e115-4422a66aebac"
      },
      "source": [
        "round(3244/7242*100, 1) #masin"
      ],
      "execution_count": null,
      "outputs": [
        {
          "output_type": "execute_result",
          "data": {
            "text/plain": [
              "44.8"
            ]
          },
          "metadata": {
            "tags": []
          },
          "execution_count": 83
        }
      ]
    },
    {
      "cell_type": "code",
      "metadata": {
        "colab": {
          "base_uri": "https://localhost:8080/"
        },
        "id": "lrTn_n4N8lRX",
        "outputId": "5259fb3e-8266-41df-eef7-1bcbb8df86a6"
      },
      "source": [
        "round(3041/7242*100, 1) #maşın"
      ],
      "execution_count": null,
      "outputs": [
        {
          "output_type": "execute_result",
          "data": {
            "text/plain": [
              "42.0"
            ]
          },
          "metadata": {
            "tags": []
          },
          "execution_count": 84
        }
      ]
    },
    {
      "cell_type": "code",
      "metadata": {
        "colab": {
          "base_uri": "https://localhost:8080/"
        },
        "id": "_49BMb0T8uwz",
        "outputId": "5b6e7175-2155-40c2-fd54-5666e26d1a4c"
      },
      "source": [
        "round(957/7242*100, 1) #mawin"
      ],
      "execution_count": null,
      "outputs": [
        {
          "output_type": "execute_result",
          "data": {
            "text/plain": [
              "13.2"
            ]
          },
          "metadata": {
            "tags": []
          },
          "execution_count": 85
        }
      ]
    },
    {
      "cell_type": "code",
      "metadata": {
        "id": "Rghdh0Mr8z0O",
        "colab": {
          "base_uri": "https://localhost:8080/"
        },
        "outputId": "720433a1-5fc7-4af0-fced-56cdb9c46ab5"
      },
      "source": [
        "tokenizer.word_counts['yoxdur']"
      ],
      "execution_count": null,
      "outputs": [
        {
          "output_type": "execute_result",
          "data": {
            "text/plain": [
              "4453"
            ]
          },
          "metadata": {
            "tags": []
          },
          "execution_count": 99
        }
      ]
    },
    {
      "cell_type": "code",
      "metadata": {
        "colab": {
          "base_uri": "https://localhost:8080/"
        },
        "id": "HpAkeZKcQDaL",
        "outputId": "f4c5822f-9493-43d0-a6b1-0515c95ac987"
      },
      "source": [
        "tokenizer.word_counts['hec'] + tokenizer.word_counts['heç']"
      ],
      "execution_count": null,
      "outputs": [
        {
          "output_type": "execute_result",
          "data": {
            "text/plain": [
              "4516"
            ]
          },
          "metadata": {
            "tags": []
          },
          "execution_count": 106
        }
      ]
    },
    {
      "cell_type": "code",
      "metadata": {
        "colab": {
          "base_uri": "https://localhost:8080/"
        },
        "id": "lCc0oeXcSGS0",
        "outputId": "16bb94c2-238e-4dd3-e5dd-5ed9458acf1a"
      },
      "source": [
        "tokenizer.word_counts['hər']"
      ],
      "execution_count": null,
      "outputs": [
        {
          "output_type": "execute_result",
          "data": {
            "text/plain": [
              "381"
            ]
          },
          "metadata": {
            "tags": []
          },
          "execution_count": 108
        }
      ]
    },
    {
      "cell_type": "code",
      "metadata": {
        "id": "Va1nnaTrSNBC"
      },
      "source": [
        ""
      ],
      "execution_count": null,
      "outputs": []
    }
  ]
}